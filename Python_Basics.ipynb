{
  "nbformat": 4,
  "nbformat_minor": 0,
  "metadata": {
    "colab": {
      "provenance": []
    },
    "kernelspec": {
      "name": "python3",
      "display_name": "Python 3"
    },
    "language_info": {
      "name": "python"
    }
  },
  "cells": [
    {
      "cell_type": "markdown",
      "source": [
        "# Python Basics theoritical questions\n",
        "\n",
        "1. What is python and why is it popular?\n",
        "->\n",
        "- A python is a programming language . That is generallly known as an interpreted language but actually it first compiles the file or the code and convert the .py file to .pyc byte code file and then interpretes it , therefore it is a compiled interpreted language.\n",
        "- popularity -\n",
        "i.Easy to understand and write the code\n",
        "ii.It has a wide range of libraries with multiple functionalities\n",
        "iii.Pyhton has a wide variety of use case indomains like , frontend(web development ) , backend and compatible with databases etc.\n",
        "iv.Used in Ml and AI and such vast domains due to its advantages\n",
        "\n",
        "2. What is an interpreter in python?\n",
        "->\n",
        "- An interpreter is used to convert the python code into the machine level language to make the computer understand the instructions and perform acccordingly . An compiler is used to compile the python file and generates an intermediate file named .pyc file which is nothing but a byte code file and then the interpreter makes use of this file to interprete and convert it into a low level language.\n",
        "\n",
        "3. What are predefined keywords in python?\n",
        "->\n",
        "- Predefined keywords are the reserved words that has a particular and specific meaning which is already defined and cannot be used as an identifier in python . These predefined words has specific use cases .\n",
        "Example - if , else , elif , contiue , break , for , while , int , char , float , bool etc.\n",
        "\n",
        "4. Can keyword be used as a variable name?\n",
        "->\n",
        "- The answer is No , as the keywords are the predefined words and cannot be used as the variable name , it throws an error as if used then the meaning or the definition of the keyword then changes which will destroy the keyword definition for that particular file. The keywords cannot be used as a variable name as this procedure will change the root definition of the keyword.\n",
        "- Ex- print(\"abc\") the output will be abc\n",
        "- now if we do - print = abc and the write print then it will give abc and then the core functionality is lost.\n",
        "\n",
        "5. What is mutability in python?\n",
        "->\n",
        "- Mutability in python is the ability to change or manipulate the data in the python . data types which are mutable - list and dictionalry are mutable as the list objects or values can bemanipulated afterwords .\n",
        "- Ex-\n",
        " - list = [1,\"abc\",10+20j]\n",
        " - list[1] = 20\n",
        " - print(list)\n",
        " - Output - [1,20,10+20j]\n",
        "\n",
        "6. Why are list mutable and tuples are immutable ?\n",
        "->\n",
        "- List are mutable because they are defined to store multiple objects or values of multiple data types and finctionalities of fuctions are defined such as append() etc for the manipulation to be easier and faster ,  it stores the dynamic data and that is what list is defined for . Whereas the tuple is used to store data and that is defined to maintain the authenticity of the data as it remains unchangable throughout the code and that makes it immutable.\n",
        "\n",
        "7. What is the difference between “==” and “is” operators in python?\n",
        "->\n",
        "- The \"==\" is an equality comparision operator which validates the operants to be equal or not . As this operator is used to check whather the statements on its left and right are same or not . Whereas the \"is\" operator is the identity operator in python which is used to validate that the operands refer to the same logical adddress or not . check if it refers to the same object or values in the memory\n",
        "\n",
        "8. What are logical operators in Python?\n",
        "->\n",
        "- Logical operators are - \"and\" , \"or\" , \"not\" . These are the operators used by the python to validate a value according to the operands (can be a boolean value or certain set of operations) , as these operands demontrate the boolean value and according to it the solution is provided in boolean\n",
        "- working of 'and' - if any one of the operand is false the output value becomes false\n",
        "- working of 'or' - if any one value of the operand is true then the output value is true\n",
        "- working of 'not' - Complements the operand value.\n",
        "\n",
        "9. What is type casting in Python?\n",
        "->\n",
        "- Type casting is the method of changing the data type explicitly in the code or program to utilise it for the particular use . As the input function always consider the input value to be a string and if we want to utilise it for mathematical operations it will throw an error . to overcome such conflict the type casting is used in python .\n",
        "- It is of two types - implicit type casting and explicit type casting\n",
        "- Implicit type casting is done by the interpreter or IDE itself .\n",
        "- EX-\n",
        "    - a= 10\n",
        "    - type(a)\n",
        "    -  output - int\n",
        "- Explicit typecasting is done as -\n",
        "- EX-\n",
        "    - a = \"10\"\n",
        "    - print(type(a))\n",
        "    - output- str\n",
        "    - print(type(int(a)))\n",
        "    - output - int\n",
        "\n",
        "10. What is the difference between implicit and explicit type casting?\n",
        "->\n",
        "- Difference\n",
        "- Implicit Type casting -\n",
        "  - i. Python by its own dies this type casting , no need of external commands\n",
        "  - ii. Data types are defined according to the object or value\n",
        "  - iii. Utilised to convert automatically from smaller to larger data type for no data loss\n",
        "  - iv. Doesnt have eexplicit functions\n",
        "- Explicit type casting -=\n",
        "  - i. External command should be given for exlicitly converting it to specific data type\n",
        "  - ii. Data types are Defined according to the user\n",
        "  - iii. User instructs to convert , which may lead to data loss also\n",
        "  - iv. Have explicit functions like - int() , char(), float() etc.\n",
        "\n",
        "11. What is the purpose of conditional statements in Python?\n",
        "->\n",
        "-  Conditional statements  are used to control the flow of the code or sequence of code based on some mathematical calculations or logics using multiple operators and combination of it .\n",
        "- Conditional statement in python are - if , if else , if elif else , ladder if else\n",
        "- These are used to control the flow of the statements in order to perform specific order or sequence of the code\n",
        "- Ex -\n",
        "    - if (a>b):\n",
        "       -  print(\"a is greater then b\")\n",
        "    - else:\n",
        "       - print(\"b is greater then a\")\n",
        "    - where a and b are variable\n",
        "\n",
        "12. How does the elif statement work?\n",
        "-> These statements works in the sequencial order as the control flow of the code enters the specific block of the code only if it satisfies the condition of the block . As any one of the statement condition is satisfied , the control flow exits the if elif else block completely\n",
        "Ex- if(a>b and a>c):\n",
        "        print(\"a is greater\")\n",
        "    elif(b>a and b>c):\n",
        "        print(\"b is greater\")\n",
        "    else:\n",
        "        print(\"c is greater\")\n",
        "    where a,b,c are variables\n",
        "  In this code we can see if the b is greater and satisfies the elif block statement then it exits the if elif else block by only considering the elif block statements.\n",
        "\n",
        "13. What is the difference between for and while loops?\n",
        "->\n",
        "-  for loop\n",
        "  - i. It iterates over a sequesnce of characters or numbers\n",
        "  - ii. Its iterated and run again and again till the end of the sequence\n",
        "  - iii. syntax - for i in range(10):\n",
        "                    print(i)\n",
        "- while loop\n",
        "  - i. It enters the block in a loop till the condition satisfies\n",
        "  - ii. syntax - while condition:\n",
        "                     print(\"xyz\")\n",
        "  - iii.Its used when the number of iterations is unknown\n",
        "\n",
        "14. Describe a scenario where a while loop is more suitable than a for loop.\n",
        "->\n",
        "- Consider a situation where we need to print the number of students in the class and perform a particular task from each student . here we know the count of the students so as to iterate , in this situation for loop is much more preferable\n",
        "- Consider the same situation but the in this we need to perform the task with only students with 90% above on the day of result , in this situation the count of iteration is unknown but the condition is given . in this situation the while loop is considered\n"
      ],
      "metadata": {
        "id": "Slck0uMOgE7m"
      }
    },
    {
      "cell_type": "markdown",
      "source": [
        "# Python basics practical questions"
      ],
      "metadata": {
        "id": "vv8dUcTBxrNU"
      }
    },
    {
      "cell_type": "code",
      "source": [
        "# 1.Write a Python program to print \"Hello, World!\"\"\n",
        "print(\"Hello, World!\")"
      ],
      "metadata": {
        "colab": {
          "base_uri": "https://localhost:8080/"
        },
        "id": "bSkMvuBp0imt",
        "outputId": "e11e5b36-7ec1-4a2a-a99c-6849606aa237"
      },
      "execution_count": null,
      "outputs": [
        {
          "output_type": "stream",
          "name": "stdout",
          "text": [
            "Hello, World!\n"
          ]
        }
      ]
    },
    {
      "cell_type": "code",
      "source": [
        "# 2.Write a Python program that displays your name and age\n",
        "\n",
        "name = \"S Shubham\"\n",
        "age = 22\n",
        "print(f\"My name is {name}\")\n",
        "print(f\"My age is {age}\")"
      ],
      "metadata": {
        "colab": {
          "base_uri": "https://localhost:8080/"
        },
        "id": "xTmt9Hsi0xg-",
        "outputId": "284c12bf-bda5-4a4f-ae45-b1ed725c80c6"
      },
      "execution_count": null,
      "outputs": [
        {
          "output_type": "stream",
          "name": "stdout",
          "text": [
            "My name is S Shubham\n",
            "My age is 22\n"
          ]
        }
      ]
    },
    {
      "cell_type": "code",
      "source": [
        "# 3.Write code to print all the pre-defined keywords in Python using the keyword library\n",
        "help('keywords')\n"
      ],
      "metadata": {
        "colab": {
          "base_uri": "https://localhost:8080/"
        },
        "id": "Q5We7kS3KTr8",
        "outputId": "3ecad425-ff97-4d9b-9571-6176312db918"
      },
      "execution_count": null,
      "outputs": [
        {
          "output_type": "stream",
          "name": "stdout",
          "text": [
            "\n",
            "Here is a list of the Python keywords.  Enter any keyword to get more help.\n",
            "\n",
            "False               class               from                or\n",
            "None                continue            global              pass\n",
            "True                def                 if                  raise\n",
            "and                 del                 import              return\n",
            "as                  elif                in                  try\n",
            "assert              else                is                  while\n",
            "async               except              lambda              with\n",
            "await               finally             nonlocal            yield\n",
            "break               for                 not                 \n",
            "\n"
          ]
        }
      ]
    },
    {
      "cell_type": "code",
      "source": [
        "# 4.Write a program that checks if a given word is a Python keyword.\n",
        "import keyword\n",
        "\n",
        "word = input(\"Enter a word to check weather a word is a keyword or not\")\n",
        "\n",
        "if keyword.iskeyword(word):\n",
        "    print(f\"{word} is a keyword\")\n",
        "else:\n",
        "    print(f\"{word} is not a keyword\")"
      ],
      "metadata": {
        "colab": {
          "base_uri": "https://localhost:8080/"
        },
        "id": "BVLgXcZjKlW-",
        "outputId": "7eb6ed83-bddb-45ae-9498-8122716756b1"
      },
      "execution_count": null,
      "outputs": [
        {
          "output_type": "stream",
          "name": "stdout",
          "text": [
            "Enter a word to check weather a word is a keyword or notfor\n",
            "for is a keyword\n"
          ]
        }
      ]
    },
    {
      "cell_type": "code",
      "source": [
        "# 5.Create a list and tuple in Python, and demonstrate how attempting to change an element works differently for each.\n",
        "\n",
        "Alist = [100 , 10 + 20j , \"hey\"]\n",
        "Atuple = (\"hello\" , 100 , 50.9)\n",
        "\n",
        "print(Alist)\n",
        "print(Atuple)\n",
        "\n",
        "Alist[0] = \"Great\"\n",
        "print(Alist)\n",
        "\n",
        "Atuple[0] = \"Great\"\n",
        "print(Atuple)\n"
      ],
      "metadata": {
        "colab": {
          "base_uri": "https://localhost:8080/",
          "height": 245
        },
        "id": "rRmYjdJELdpH",
        "outputId": "87bf1f6a-253b-4595-d1b5-b80b74cf7693"
      },
      "execution_count": null,
      "outputs": [
        {
          "output_type": "stream",
          "name": "stdout",
          "text": [
            "[100, (10+20j), 'hey']\n",
            "('hello', 100, 50.9)\n",
            "['Great', (10+20j), 'hey']\n"
          ]
        },
        {
          "output_type": "error",
          "ename": "TypeError",
          "evalue": "'tuple' object does not support item assignment",
          "traceback": [
            "\u001b[0;31m---------------------------------------------------------------------------\u001b[0m",
            "\u001b[0;31mTypeError\u001b[0m                                 Traceback (most recent call last)",
            "\u001b[0;32m/tmp/ipython-input-2793939556.py\u001b[0m in \u001b[0;36m<cell line: 0>\u001b[0;34m()\u001b[0m\n\u001b[1;32m     10\u001b[0m \u001b[0mprint\u001b[0m\u001b[0;34m(\u001b[0m\u001b[0mAlist\u001b[0m\u001b[0;34m)\u001b[0m\u001b[0;34m\u001b[0m\u001b[0;34m\u001b[0m\u001b[0m\n\u001b[1;32m     11\u001b[0m \u001b[0;34m\u001b[0m\u001b[0m\n\u001b[0;32m---> 12\u001b[0;31m \u001b[0mAtuple\u001b[0m\u001b[0;34m[\u001b[0m\u001b[0;36m0\u001b[0m\u001b[0;34m]\u001b[0m \u001b[0;34m=\u001b[0m \u001b[0;34m\"Great\"\u001b[0m\u001b[0;34m\u001b[0m\u001b[0;34m\u001b[0m\u001b[0m\n\u001b[0m\u001b[1;32m     13\u001b[0m \u001b[0mprint\u001b[0m\u001b[0;34m(\u001b[0m\u001b[0mAtuple\u001b[0m\u001b[0;34m)\u001b[0m\u001b[0;34m\u001b[0m\u001b[0;34m\u001b[0m\u001b[0m\n",
            "\u001b[0;31mTypeError\u001b[0m: 'tuple' object does not support item assignment"
          ]
        }
      ]
    },
    {
      "cell_type": "code",
      "source": [
        "# 6.Write a function to demonstrate the behavior of mutable and immutable arguments.\n",
        "\n",
        "# Behavior of mutable arguments\n",
        "\n",
        "list1 = [100 , \"great\" , 90.98]\n",
        "print(list1)\n",
        "list1.append(50 + 60j)\n",
        "print(list1)\n",
        "list1[0] = \"Day\"\n",
        "print(list1)\n",
        "\n",
        "# Behavior of immutable arguments\n",
        "\n",
        "string1 = \"GreatDay\"\n",
        "print(string1)\n",
        "string1[0] = \"A\"\n",
        "print(string1)\n",
        "\n",
        "\n"
      ],
      "metadata": {
        "id": "tSbixeNBPInB",
        "colab": {
          "base_uri": "https://localhost:8080/",
          "height": 280
        },
        "outputId": "f04f99af-1446-423e-9b37-23ffed957f72"
      },
      "execution_count": 9,
      "outputs": [
        {
          "output_type": "stream",
          "name": "stdout",
          "text": [
            "[100, 'great', 90.98]\n",
            "[100, 'great', 90.98, (50+60j)]\n",
            "['Day', 'great', 90.98, (50+60j)]\n",
            "GreatDay\n"
          ]
        },
        {
          "output_type": "error",
          "ename": "TypeError",
          "evalue": "'str' object does not support item assignment",
          "traceback": [
            "\u001b[0;31m---------------------------------------------------------------------------\u001b[0m",
            "\u001b[0;31mTypeError\u001b[0m                                 Traceback (most recent call last)",
            "\u001b[0;32m/tmp/ipython-input-4270709017.py\u001b[0m in \u001b[0;36m<cell line: 0>\u001b[0;34m()\u001b[0m\n\u001b[1;32m     14\u001b[0m \u001b[0mstring1\u001b[0m \u001b[0;34m=\u001b[0m \u001b[0;34m\"GreatDay\"\u001b[0m\u001b[0;34m\u001b[0m\u001b[0;34m\u001b[0m\u001b[0m\n\u001b[1;32m     15\u001b[0m \u001b[0mprint\u001b[0m\u001b[0;34m(\u001b[0m\u001b[0mstring1\u001b[0m\u001b[0;34m)\u001b[0m\u001b[0;34m\u001b[0m\u001b[0;34m\u001b[0m\u001b[0m\n\u001b[0;32m---> 16\u001b[0;31m \u001b[0mstring1\u001b[0m\u001b[0;34m[\u001b[0m\u001b[0;36m0\u001b[0m\u001b[0;34m]\u001b[0m \u001b[0;34m=\u001b[0m \u001b[0;34m\"A\"\u001b[0m\u001b[0;34m\u001b[0m\u001b[0;34m\u001b[0m\u001b[0m\n\u001b[0m\u001b[1;32m     17\u001b[0m \u001b[0mprint\u001b[0m\u001b[0;34m(\u001b[0m\u001b[0mstring1\u001b[0m\u001b[0;34m)\u001b[0m\u001b[0;34m\u001b[0m\u001b[0;34m\u001b[0m\u001b[0m\n\u001b[1;32m     18\u001b[0m \u001b[0;34m\u001b[0m\u001b[0m\n",
            "\u001b[0;31mTypeError\u001b[0m: 'str' object does not support item assignment"
          ]
        }
      ]
    },
    {
      "cell_type": "code",
      "source": [
        "# 7.Write a program that performs basic arithmetic operations on two user-input numbers.\n",
        "\n",
        "number1 = float(input(\"ENter the first number\"))\n",
        "number2 = float(input(\"Enter the second number\"))\n",
        "operation = input(\"Enter the operation to execute ( + , - , * , / , %)\")\n",
        "\n",
        "if operation == \"+\" :\n",
        "  print(\"The ressult is :\", number1+number2)\n",
        "elif operation == \"-\" :\n",
        "  print(\"The ressult is :\", number1-number2)\n",
        "elif operation == \"*\" :\n",
        "  print(\"The ressult is :\", number1*number2)\n",
        "elif operation == \"/\" and number2!=0 :\n",
        "  print(\"The ressult is :\", number1/number2)\n",
        "elif operation == \"%\" :\n",
        "  print(\"The ressult is :\", number1%number2)\n",
        "\n"
      ],
      "metadata": {
        "colab": {
          "base_uri": "https://localhost:8080/"
        },
        "id": "2XVuQ6lgyBvd",
        "outputId": "cdb8f391-7b0f-4cfe-9d14-f285a37b0b29"
      },
      "execution_count": 14,
      "outputs": [
        {
          "output_type": "stream",
          "name": "stdout",
          "text": [
            "ENter the first number12\n",
            "Enter the second number89\n",
            "Enter the operation to execute ( + , - , * , / , %)-\n",
            "The ressult is : -77.0\n"
          ]
        }
      ]
    },
    {
      "cell_type": "code",
      "source": [
        "# 8.Write a program to demonstrate the use of logical operators.\n",
        "\n",
        "bool1 = int(input(\"Enter the first boolean number\"))\n",
        "bool2 = int(input(\"Enter the second boolean number\"))\n",
        "log = input(\"Emter which logical operation to perform ( and , or , not )\").lower()\n",
        "\n",
        "if log == \"and\":\n",
        "  print(\"The result is\", bool1 and bool2)\n",
        "elif log == \"or\":\n",
        "  print(\"The result is\", bool1 or bool2)\n",
        "elif log == \"not\":\n",
        "  print(f\"The result for 1st boolean is {not bool1} and for 2nd boolean is {not bool2}\")"
      ],
      "metadata": {
        "colab": {
          "base_uri": "https://localhost:8080/"
        },
        "id": "wXLQeo9l0rfr",
        "outputId": "eef70977-8c27-4e69-d0c8-d949ae152575"
      },
      "execution_count": 15,
      "outputs": [
        {
          "output_type": "stream",
          "name": "stdout",
          "text": [
            "Enter the first boolean number1\n",
            "Enter the second boolean number0\n",
            "Emter which logical operation to perform ( and , or , not )not\n",
            "The result for 1st boolean is False and for 2nd boolean is True\n"
          ]
        }
      ]
    },
    {
      "cell_type": "code",
      "source": [
        "# 9.Write a Python program to convert user input from string to integer, float, and boolean types.\n",
        "\n",
        "inp = input(\"Enter a string to convert \")\n",
        "dt = input(\"Enter the data to be converted into integer, float or boolean\").lower()\n",
        "\n",
        "if dt == \"integer\" :\n",
        "  print(\"The entered data is converted to integer\", int(inp))\n",
        "  print(type(int(inp)))\n",
        "elif dt == \"float\" :\n",
        "  print(\"The entered data is converted to float\", float(inp))\n",
        "  print(type(float(inp)))\n",
        "elif dt == \"boolean\" :\n",
        "  print(\"The entered data is converted to boolean\", bool(inp))\n",
        "  print(type(bool(inp)))\n"
      ],
      "metadata": {
        "colab": {
          "base_uri": "https://localhost:8080/"
        },
        "id": "YXHSSwla4NVi",
        "outputId": "8316bc8b-bd03-40a8-ac41-149655ac44fa"
      },
      "execution_count": 19,
      "outputs": [
        {
          "output_type": "stream",
          "name": "stdout",
          "text": [
            "Enter a string to convert 10\n",
            "Enter the data to be converted into integer, float or booleaninteger\n",
            "The entered data is converted to integer 10\n",
            "<class 'int'>\n"
          ]
        }
      ]
    },
    {
      "cell_type": "code",
      "source": [
        "# 10.Write code to demonstrate type casting with list elements\n",
        "\n",
        "list1 = [100 , 200.009 , \"stringg\" , 20 + 90j]\n",
        "list1[1] = int(list1[1])\n",
        "print(list1[1])\n",
        "print(type(int(list1[1])))\n"
      ],
      "metadata": {
        "colab": {
          "base_uri": "https://localhost:8080/"
        },
        "id": "JfCq8YKw6BRm",
        "outputId": "f93ee753-e6af-47d6-f66b-e7ffd8ad81fc"
      },
      "execution_count": 21,
      "outputs": [
        {
          "output_type": "stream",
          "name": "stdout",
          "text": [
            "200\n",
            "<class 'int'>\n"
          ]
        }
      ]
    },
    {
      "cell_type": "code",
      "source": [
        "# 11.Write a program that checks if a number is positive, negative, or zero\n",
        "\n",
        "num = float(input(\"Enter a number\"))\n",
        "if num>1 :\n",
        "  print(\"The number is positive\")\n",
        "elif num<0 :\n",
        "  print(\"The number is negative\")\n",
        "else :\n",
        "  print(\"The number is zero\")"
      ],
      "metadata": {
        "colab": {
          "base_uri": "https://localhost:8080/"
        },
        "id": "bszTIBEA-p3X",
        "outputId": "eecd9bec-8b5c-4571-a411-04a44989e6ba"
      },
      "execution_count": 24,
      "outputs": [
        {
          "output_type": "stream",
          "name": "stdout",
          "text": [
            "Enter a number10\n",
            "The number is positive\n"
          ]
        }
      ]
    },
    {
      "cell_type": "code",
      "source": [
        "# 12.Write a for loop to print numbers from 1 to 10.\n",
        "\n",
        "for i in range(1,11) :\n",
        "  print(i)"
      ],
      "metadata": {
        "colab": {
          "base_uri": "https://localhost:8080/"
        },
        "id": "f9hvosi__jx0",
        "outputId": "47a9f540-9c2e-40d1-ed30-e9b31a7bc3d7"
      },
      "execution_count": 25,
      "outputs": [
        {
          "output_type": "stream",
          "name": "stdout",
          "text": [
            "1\n",
            "2\n",
            "3\n",
            "4\n",
            "5\n",
            "6\n",
            "7\n",
            "8\n",
            "9\n",
            "10\n"
          ]
        }
      ]
    },
    {
      "cell_type": "code",
      "source": [
        "# 13.Write a Python program to find the sum of all even numbers between 1 and 50\n",
        "\n",
        "a=0\n",
        "for i in range(1,51):\n",
        "  if (i%2 == 0) :\n",
        "    a += i\n",
        "print(a)"
      ],
      "metadata": {
        "colab": {
          "base_uri": "https://localhost:8080/"
        },
        "id": "OEtSPyK8AFGo",
        "outputId": "7b84cabf-ebb7-48a4-ccd0-72c72a484a5e"
      },
      "execution_count": 26,
      "outputs": [
        {
          "output_type": "stream",
          "name": "stdout",
          "text": [
            "650\n"
          ]
        }
      ]
    },
    {
      "cell_type": "code",
      "source": [
        "# 14.Write a program to reverse a string using a while loop.\n",
        "\n",
        "inputstring = input(\"ENter a string\")\n",
        "i=-1\n",
        "while (i != (-(1+(len(inputstring))))):\n",
        "  print(inputstring[i],end=\"\")\n",
        "  i = i-1\n"
      ],
      "metadata": {
        "colab": {
          "base_uri": "https://localhost:8080/"
        },
        "id": "RrOODxcjBIwm",
        "outputId": "bb5984b3-3318-4b12-de08-3763b4fefa50"
      },
      "execution_count": 5,
      "outputs": [
        {
          "output_type": "stream",
          "name": "stdout",
          "text": [
            "ENter a stringabc\n",
            "cba"
          ]
        }
      ]
    },
    {
      "cell_type": "code",
      "source": [
        "# 15. Write a Python program to calculate the factorial of a number provided by the user using a while loop.\n",
        "\n",
        "number = int(input(\"ENter a number\"))\n",
        "a=1\n",
        "num = number\n",
        "while (number!=0):\n",
        "  a *= number\n",
        "  number = number - 1\n",
        "print(f\"The factorial of {num} is {a}\")"
      ],
      "metadata": {
        "colab": {
          "base_uri": "https://localhost:8080/"
        },
        "id": "VmPhTrOWdKlH",
        "outputId": "7c50e86e-a177-4759-ad2c-a021b463000f"
      },
      "execution_count": 2,
      "outputs": [
        {
          "output_type": "stream",
          "name": "stdout",
          "text": [
            "ENter a number5\n",
            "The factorial of 5 is 120\n"
          ]
        }
      ]
    },
    {
      "cell_type": "code",
      "source": [],
      "metadata": {
        "id": "9t1LxZ0IeEOF"
      },
      "execution_count": null,
      "outputs": []
    }
  ]
}